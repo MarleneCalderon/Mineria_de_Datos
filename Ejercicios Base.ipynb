{
 "cells": [
  {
   "cell_type": "markdown",
   "metadata": {},
   "source": [
    "\n",
    "## Ejercicio 1:\n",
    "Realiza una variable con tu matricula y realiza una secuencia de imprimir con tu nombre y tu matricula concatenados.\n"
   ]
  },
  {
   "cell_type": "code",
   "execution_count": 3,
   "metadata": {},
   "outputs": [
    {
     "name": "stdout",
     "output_type": "stream",
     "text": [
      "Matricula: 1811330\n",
      "Nombre: MarleneCalderonRangel\n"
     ]
    }
   ],
   "source": [
    "Mat= 1811330\n",
    "Nom= \"MarleneCalderonRangel\"\n",
    "print(\"Matricula:\", Mat)\n",
    "print(\"Nombre:\", Nom)"
   ]
  },
  {
   "cell_type": "markdown",
   "metadata": {},
   "source": [
    "# Ejercicio 2\n",
    "Pidiendo el input del usuario pide dos números y crea una pequeña calculadora con los operadores básicos de suma, resta, multiplicación, división, y exponente.\n",
    "\n",
    "Utilizando el loop de while"
   ]
  },
  {
   "cell_type": "code",
   "execution_count": 6,
   "metadata": {},
   "outputs": [
    {
     "name": "stdout",
     "output_type": "stream",
     "text": [
      "Intoduzca el primer numero a usar:2\n",
      "Introduzca el segundo numero a usar:5\n",
      "La suma del numero 1 y numero 2 es: 7\n",
      "La resta del numero 1 menos el numero 2 es: -3\n",
      "La multiplicacion del numero 1 y 2 es: 10\n",
      "La division del numero 1 entre el numero 2 es: 0.4\n",
      "Numero 1 elevado al numero 2 es: 32\n"
     ]
    }
   ],
   "source": [
    "a1=int(input(\"Intoduzca el primer numero a usar:\"))\n",
    "a2=int(input(\"Introduzca el segundo numero a usar:\"))\n",
    "\n",
    "i=1\n",
    "while i<=5:\n",
    "    suma= a1+a2\n",
    "    print(\"La suma del numero 1 y numero 2 es:\", suma)\n",
    "    i=i+1\n",
    "    \n",
    "    resta= a1-a2\n",
    "    print(\"La resta del numero 1 menos el numero 2 es:\", resta)\n",
    "    i=i+1\n",
    "    \n",
    "    mult= a1*a2\n",
    "    print(\"La multiplicacion del numero 1 y 2 es:\", mult)\n",
    "    i=i+1\n",
    "    \n",
    "    div=a1/a2\n",
    "    print(\"La division del numero 1 entre el numero 2 es:\", div)\n",
    "    i=i+1\n",
    "    \n",
    "    exp=a1**a2\n",
    "    print(\"Numero 1 elevado al numero 2 es:\", exp)\n",
    "    i=i+1\n"
   ]
  },
  {
   "cell_type": "markdown",
   "metadata": {},
   "source": [
    "# Ejercicio 3\n",
    "Con loop while o for, realiza una lista de 10 numeros multiplos de 3, y después realiza una función de loop que sume todos los números dentro del arreglo.\n"
   ]
  },
  {
   "cell_type": "code",
   "execution_count": 28,
   "metadata": {
    "scrolled": true
   },
   "outputs": [
    {
     "name": "stdout",
     "output_type": "stream",
     "text": [
      "3\n",
      "6\n",
      "9\n",
      "12\n",
      "15\n",
      "18\n",
      "21\n",
      "24\n",
      "27\n",
      "30\n",
      "La suma de los 10 numeros multiplos de 3 es: 505\n"
     ]
    }
   ],
   "source": [
    "m=1\n",
    "numero=0\n",
    "while m<=10:\n",
    "    numero= numero+3\n",
    "    print(numero)\n",
    "    m=m+1\n",
    "    suma=suma+numero\n",
    "    \n",
    "print(\"La suma de los 10 numeros multiplos de 3 es:\", suma)"
   ]
  },
  {
   "cell_type": "markdown",
   "metadata": {},
   "source": [
    "# Ejercicio 4\n",
    "Con una función de if else, revisar si un número es par o es impar.\n",
    "\n",
    "Con una función de if else, revisar si un número es primo o no."
   ]
  },
  {
   "cell_type": "code",
   "execution_count": 29,
   "metadata": {},
   "outputs": [
    {
     "name": "stdout",
     "output_type": "stream",
     "text": [
      "Introduzca un numero:7\n",
      "El numero es impar\n",
      "El numero es primo\n"
     ]
    }
   ],
   "source": [
    "n1= int(input(\"Introduzca un numero:\"))\n",
    "\n",
    "#Revisando si el numero es par o impar\n",
    "res=n1%2\n",
    "if res == 0:\n",
    "    print (\"El numero es par\")\n",
    "else:\n",
    "    print (\"El numero es impar\")\n",
    "    \n",
    "#Revisando si el numero es primo\n",
    "contador=0\n",
    "for i in range(1, n1+1):\n",
    "    if(n1%i)==0:\n",
    "        contador= contador+1\n",
    "if contador==2:\n",
    "    print(\"El numero es primo\")\n",
    "else:\n",
    "    print(\"El numero no es primo\")\n"
   ]
  },
  {
   "cell_type": "markdown",
   "metadata": {},
   "source": [
    "# Ejercicio 5\n",
    "Utilizando diferentes clases en python, crea una calculadora con los operadores básicos de suma, resta, multiplicación, división, y exponente.\n",
    "\n",
    "Funciones matemáticas en la librería de math en python:\n"
   ]
  },
  {
   "cell_type": "code",
   "execution_count": 49,
   "metadata": {},
   "outputs": [
    {
     "name": "stdout",
     "output_type": "stream",
     "text": [
      "2\n",
      "Introduzca primer numero:2\n",
      "Introduzca segundo numero: 3\n",
      "1.Suma 2.Resta 3.Multiplicacion 4.Division 5.Salir\n",
      "Seleccione una opcion:1\n"
     ]
    },
    {
     "ename": "NameError",
     "evalue": "name 'by' is not defined",
     "output_type": "error",
     "traceback": [
      "\u001b[1;31m---------------------------------------------------------------------------\u001b[0m",
      "\u001b[1;31mNameError\u001b[0m                                 Traceback (most recent call last)",
      "\u001b[1;32m<ipython-input-49-2efa7a33cda9>\u001b[0m in \u001b[0;36m<module>\u001b[1;34m\u001b[0m\n\u001b[0;32m     15\u001b[0m     \u001b[0mop\u001b[0m \u001b[1;33m=\u001b[0m \u001b[0mint\u001b[0m\u001b[1;33m(\u001b[0m\u001b[0minput\u001b[0m\u001b[1;33m(\u001b[0m\u001b[1;34m\"Seleccione una opcion:\"\u001b[0m \u001b[1;33m)\u001b[0m\u001b[1;33m)\u001b[0m\u001b[1;33m\u001b[0m\u001b[1;33m\u001b[0m\u001b[0m\n\u001b[0;32m     16\u001b[0m     \u001b[1;32mif\u001b[0m \u001b[0mop\u001b[0m\u001b[1;33m==\u001b[0m\u001b[1;36m1\u001b[0m\u001b[1;33m:\u001b[0m\u001b[1;33m\u001b[0m\u001b[1;33m\u001b[0m\u001b[0m\n\u001b[1;32m---> 17\u001b[1;33m          \u001b[0mprint\u001b[0m\u001b[1;33m(\u001b[0m\u001b[1;34m\"Resultado: \"\u001b[0m\u001b[1;33m,\u001b[0m\u001b[0msuma\u001b[0m\u001b[1;33m(\u001b[0m\u001b[0mx\u001b[0m\u001b[1;33m,\u001b[0m\u001b[0my\u001b[0m\u001b[1;33m)\u001b[0m\u001b[1;33m)\u001b[0m\u001b[1;33m\u001b[0m\u001b[1;33m\u001b[0m\u001b[0m\n\u001b[0m\u001b[0;32m     18\u001b[0m     \u001b[1;32melif\u001b[0m \u001b[0mop\u001b[0m\u001b[1;33m==\u001b[0m\u001b[1;36m2\u001b[0m\u001b[1;33m:\u001b[0m\u001b[1;33m\u001b[0m\u001b[1;33m\u001b[0m\u001b[0m\n\u001b[0;32m     19\u001b[0m         \u001b[0mprint\u001b[0m\u001b[1;33m(\u001b[0m\u001b[1;34m\"Resultado: \"\u001b[0m\u001b[1;33m,\u001b[0m\u001b[0mresta\u001b[0m\u001b[1;33m(\u001b[0m\u001b[0mx\u001b[0m\u001b[1;33m,\u001b[0m\u001b[0my\u001b[0m\u001b[1;33m)\u001b[0m\u001b[1;33m)\u001b[0m\u001b[1;33m\u001b[0m\u001b[1;33m\u001b[0m\u001b[0m\n",
      "\u001b[1;32m<ipython-input-49-2efa7a33cda9>\u001b[0m in \u001b[0;36msuma\u001b[1;34m(x, y)\u001b[0m\n\u001b[0;32m      1\u001b[0m \u001b[1;32mdef\u001b[0m \u001b[0msuma\u001b[0m\u001b[1;33m(\u001b[0m\u001b[0mx\u001b[0m\u001b[1;33m,\u001b[0m\u001b[0my\u001b[0m\u001b[1;33m)\u001b[0m\u001b[1;33m:\u001b[0m\u001b[1;33m\u001b[0m\u001b[1;33m\u001b[0m\u001b[0m\n\u001b[1;32m----> 2\u001b[1;33m     \u001b[1;32mreturn\u001b[0m \u001b[0mx\u001b[0m\u001b[1;33m+\u001b[0m\u001b[0mby\u001b[0m\u001b[1;33m\u001b[0m\u001b[1;33m\u001b[0m\u001b[0m\n\u001b[0m\u001b[0;32m      3\u001b[0m \u001b[1;32mdef\u001b[0m \u001b[0mresta\u001b[0m\u001b[1;33m(\u001b[0m\u001b[0mx\u001b[0m\u001b[1;33m,\u001b[0m\u001b[0my\u001b[0m\u001b[1;33m)\u001b[0m\u001b[1;33m:\u001b[0m\u001b[1;33m\u001b[0m\u001b[1;33m\u001b[0m\u001b[0m\n\u001b[0;32m      4\u001b[0m     \u001b[1;32mreturn\u001b[0m \u001b[0mx\u001b[0m\u001b[1;33m-\u001b[0m\u001b[0my\u001b[0m\u001b[1;33m\u001b[0m\u001b[1;33m\u001b[0m\u001b[0m\n\u001b[0;32m      5\u001b[0m \u001b[1;32mdef\u001b[0m \u001b[0mmult\u001b[0m\u001b[1;33m(\u001b[0m\u001b[0mx\u001b[0m\u001b[1;33m,\u001b[0m\u001b[0my\u001b[0m\u001b[1;33m)\u001b[0m\u001b[1;33m:\u001b[0m\u001b[1;33m\u001b[0m\u001b[1;33m\u001b[0m\u001b[0m\n",
      "\u001b[1;31mNameError\u001b[0m: name 'by' is not defined"
     ]
    }
   ],
   "source": [
    "def suma(x,y):\n",
    "    return x+by\n",
    "def resta(x,y):\n",
    "    return x-y\n",
    "def mult(x,y):\n",
    "    return x*y\n",
    "def divi(x,y):\n",
    "    return x/y\n",
    "s=0\n",
    "while s != 1:\n",
    "    input()\n",
    "    x = int(input(\"Introduzca primer numero:\" ))\n",
    "    y = int(input(\"Introduzca segundo numero: \"))\n",
    "    print(\"1.Suma 2.Resta 3.Multiplicacion 4.Division 5.Salir\")\n",
    "    op = int(input(\"Seleccione una opcion:\" ))\n",
    "    if op==1:\n",
    "         print(\"Resultado: \",suma(x,y))\n",
    "    elif op==2:\n",
    "        print(\"Resultado: \",resta(x,y))\n",
    "    elif op==3:\n",
    "        print(\"Resultado: \",mult(x,y))\n",
    "    elif op==4:\n",
    "        print(\"Resultado: \",divi(x,y))\n",
    "    elif op==5:\n",
    "        print(\"Adios\")\n",
    "        s=1\n",
    "    else:\n",
    "        print(\"Opcion no valida\")"
   ]
  },
  {
   "cell_type": "markdown",
   "metadata": {},
   "source": [
    "# Tuplas\n"
   ]
  },
  {
   "cell_type": "code",
   "execution_count": 52,
   "metadata": {},
   "outputs": [
    {
     "name": "stdout",
     "output_type": "stream",
     "text": [
      "Variable Flotante 0.0\n",
      "Variable Entero 0\n",
      "Variable Boleana False\n",
      "Variable Compleja 0j\n",
      "Tupla de 3 numeros enteros: 10 15 20\n",
      "Primer elemento: 10\n",
      "Ultimo valor: 20\n"
     ]
    },
    {
     "data": {
      "text/plain": [
       "(10, 15, 20, 'Diez', 'Quince', 'Veinte')"
      ]
     },
     "execution_count": 52,
     "metadata": {},
     "output_type": "execute_result"
    }
   ],
   "source": [
    "#declarando variables\n",
    "Flotante= float()\n",
    "Int= int()\n",
    "Boleana= bool()\n",
    "Compleja= complex()\n",
    "\n",
    "#imprimiendo variables\n",
    "print(\"Variable Flotante\", Flotante)\n",
    "print(\"Variable Entero\", Int)\n",
    "print(\"Variable Boleana\", Boleana)\n",
    "print(\"Variable Compleja\", Compleja)\n",
    "\n",
    "#Tupla Con valores enteros\n",
    "t=(10,15,20)\n",
    "#imprimiendo primero\n",
    "print(\"Tupla de 3 numeros enteros:\", t[0],t[1],t[2])\n",
    "print(\"Primer elemento:\", t[0])\n",
    "print(\"Ultimo valor:\",t[2])\n",
    "\n",
    "#a;adiendo 3 valores de string a la tupla\n",
    "t= t+(\"Diez\",\"Quince\",\"Veinte\")\n",
    "t\n",
    "\n",
    "#verificando que exista variable dentro de una dupla\n"
   ]
  },
  {
   "cell_type": "markdown",
   "metadata": {},
   "source": [
    "# Listas\n"
   ]
  },
  {
   "cell_type": "code",
   "execution_count": 62,
   "metadata": {},
   "outputs": [
    {
     "name": "stdout",
     "output_type": "stream",
     "text": [
      "pares= [22, 12, 28, 34, 20, 22, 32, 28, 14, 40, 20, 40, 42, 8, 38, 34, 26, 10, 32]\n",
      "impares= [19, 17, 5, 17, 17, 29, 37, 47, 35, 9, 5, 31, 11, 29, 13, 33, 29, 15, 45, 17, 1]\n",
      "Longitudes:\n",
      "Pares= 19\n",
      "Impares= 21\n"
     ]
    },
    {
     "data": {
      "text/plain": [
       "[1,\n",
       " 5,\n",
       " 5,\n",
       " 9,\n",
       " 11,\n",
       " 13,\n",
       " 15,\n",
       " 17,\n",
       " 17,\n",
       " 17,\n",
       " 17,\n",
       " 19,\n",
       " 29,\n",
       " 29,\n",
       " 29,\n",
       " 31,\n",
       " 33,\n",
       " 35,\n",
       " 37,\n",
       " 45,\n",
       " 47]"
      ]
     },
     "execution_count": 62,
     "metadata": {},
     "output_type": "execute_result"
    }
   ],
   "source": [
    "#40 numeros aleatorios\n",
    "from random import randint\n",
    "l=[randint(1, 50) for i in range(40)]\n",
    "l\n",
    "\n",
    "#Clasificando en pares e impares\n",
    "def separador(l):\n",
    "    lim=len(l)\n",
    "    par=[]\n",
    "    imp=[]\n",
    "    for i in range(lim):\n",
    "        if l[i]%2==0:\n",
    "            par.append(l[i])\n",
    "        else:\n",
    "            imp.append(l[i])\n",
    "    return par,imp\n",
    "par, imp=separador(l)\n",
    "print(\"pares=\", par)\n",
    "print(\"impares=\",imp)\n",
    "\n",
    "##creando dos variables con la longitud de las listas\n",
    "len_par=len(par)\n",
    "len_imp=len(imp)\n",
    "print(\"Longitudes:\")\n",
    "print(\"Pares=\", len_par)\n",
    "print(\"Impares=\",len_imp)\n",
    "\n",
    "#ordenando elementos\n",
    "#par mayor a menor\n",
    "ordenado21= sorted(par, reverse=True)\n",
    "#impar menor a mayor\n",
    "ordenado12=sorted(imp)\n",
    "ordenado21\n",
    "ordenado12\n",
    "#impar menor a mayor\n"
   ]
  },
  {
   "cell_type": "markdown",
   "metadata": {},
   "source": [
    "# Diccionarios"
   ]
  },
  {
   "cell_type": "code",
   "execution_count": 96,
   "metadata": {},
   "outputs": [
    {
     "name": "stdout",
     "output_type": "stream",
     "text": [
      "[19, 20, 21, 21, 29, 51]\n",
      "Marlene\n",
      "Edmundo\n",
      "Carlos\n",
      "Irasema\n",
      "Karina\n"
     ]
    }
   ],
   "source": [
    "#Diccionario 6 nombres\n",
    "personas = {'Nombres' : ['Marlene','Edmundo','Carlos','Irasema','Karina', 'Estefania'],'Edades' : [20, 21, 19, 51, 21, 29]}\n",
    "personas\n",
    "\n",
    "#Lista con valore de edad ordenados de menor a mayor\n",
    "edad = personas.get('Edades')\n",
    "ordenadas= sorted(edad)\n",
    "print(ordenadas)\n",
    "\n",
    "#Nombres\n",
    "\n",
    "for i in range(0,5):\n",
    "    print (personas['Nombres'][i])"
   ]
  },
  {
   "cell_type": "markdown",
   "metadata": {},
   "source": [
    "# Sets"
   ]
  },
  {
   "cell_type": "code",
   "execution_count": 92,
   "metadata": {},
   "outputs": [
    {
     "name": "stdout",
     "output_type": "stream",
     "text": [
      " Longitud del set es: 24\n",
      "el numero 9  se encuentra en el set\n",
      "el numero 9  se encuentra en el set\n",
      "el numero 4  se encuentra en el set\n",
      "el numero 6  se encuentra en el set\n",
      "el numero 5  se encuentra en el set\n"
     ]
    }
   ],
   "source": [
    "\n",
    "import random as r\n",
    "numero=set({})\n",
    "for i in range(1,100):\n",
    "    numero.add(r.randint(1,25))\n",
    "\n",
    "print(\" Longitud del set es:\",len(numero))\n",
    "listas=[]\n",
    "for i in range(1,6):\n",
    "    listas.append(r.randint(1,10))\n",
    "for num in listas:\n",
    "    if num in listas:\n",
    "        print(\"el numero\",num,\" se encuentra en el set\")\n",
    "    else:\n",
    "        print(\"el numero\",num,\"no se encuentra en el set\")"
   ]
  },
  {
   "cell_type": "code",
   "execution_count": null,
   "metadata": {},
   "outputs": [],
   "source": []
  }
 ],
 "metadata": {
  "kernelspec": {
   "display_name": "Python 3",
   "language": "python",
   "name": "python3"
  },
  "language_info": {
   "codemirror_mode": {
    "name": "ipython",
    "version": 3
   },
   "file_extension": ".py",
   "mimetype": "text/x-python",
   "name": "python",
   "nbconvert_exporter": "python",
   "pygments_lexer": "ipython3",
   "version": "3.8.3"
  }
 },
 "nbformat": 4,
 "nbformat_minor": 4
}
